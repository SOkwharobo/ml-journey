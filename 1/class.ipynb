{
 "cells": [
  {
   "cell_type": "code",
   "execution_count": 29,
   "metadata": {},
   "outputs": [],
   "source": [
    "class SimpleClass:\n",
    "    \"\"\"Practice class\"\"\"\n",
    "    i = 45\n",
    "\n",
    "    def f(args):\n",
    "        return \"Hello World\"\n"
   ]
  },
  {
   "cell_type": "code",
   "execution_count": 30,
   "metadata": {},
   "outputs": [],
   "source": [
    "class ComplexNumbers:\n",
    "    def __init__(self, realValue, imaginaryValue, /) -> None:\n",
    "        self.a = realValue\n",
    "        self.b = imaginaryValue\n",
    "\n",
    "    def toString(self) -> str:\n",
    "        return f\"{self.a} + {self.b}i\""
   ]
  },
  {
   "cell_type": "code",
   "execution_count": 31,
   "metadata": {},
   "outputs": [
    {
     "data": {
      "text/plain": [
       "'3 + 4i'"
      ]
     },
     "execution_count": 31,
     "metadata": {},
     "output_type": "execute_result"
    }
   ],
   "source": [
    "z = ComplexNumbers(3, 4)\n",
    "z.toString()"
   ]
  },
  {
   "cell_type": "code",
   "execution_count": 32,
   "metadata": {},
   "outputs": [],
   "source": [
    "class Dog:\n",
    "    def __init__(self,name) -> None:\n",
    "        self.name = name\n",
    "        self.tricks = []\n",
    "\n",
    "    def add_trick(self, trick) -> list:\n",
    "        self.tricks.append(trick)\n",
    "        return self.tricks\n"
   ]
  },
  {
   "cell_type": "code",
   "execution_count": 35,
   "metadata": {},
   "outputs": [
    {
     "data": {
      "text/plain": [
       "['roll over']"
      ]
     },
     "execution_count": 35,
     "metadata": {},
     "output_type": "execute_result"
    }
   ],
   "source": [
    "scobby = Dog(\"Scooby\")\n",
    "milo = Dog(\"milo\")\n",
    "\n",
    "scobby.add_trick(\"sit\")\n",
    "milo.add_trick(\"roll over\")"
   ]
  },
  {
   "cell_type": "code",
   "execution_count": 36,
   "metadata": {},
   "outputs": [
    {
     "data": {
      "text/plain": [
       "['sit']"
      ]
     },
     "execution_count": 36,
     "metadata": {},
     "output_type": "execute_result"
    }
   ],
   "source": [
    "scobby.tricks"
   ]
  },
  {
   "cell_type": "code",
   "execution_count": 4,
   "metadata": {},
   "outputs": [],
   "source": [
    "from dataclasses import dataclass, field"
   ]
  },
  {
   "cell_type": "code",
   "execution_count": 5,
   "metadata": {},
   "outputs": [],
   "source": [
    "@dataclass\n",
    "class Profile:\n",
    "    first_name: str\n",
    "    last_name: str\n",
    "    age: int\n",
    "    sex: str\n",
    "    \n",
    "    def toString(self) -> str:\n",
    "        return f\"{self.first_name} {self.last_name} {self.age} {self.sex}\"\n",
    "    \n",
    "    "
   ]
  },
  {
   "cell_type": "code",
   "execution_count": 11,
   "metadata": {},
   "outputs": [],
   "source": [
    "@dataclass(order=True)\n",
    "class Person():\n",
    "    sort_index: int = field(init=False, repr=False)\n",
    "    name: str\n",
    "    age: int\n",
    "    height: float\n",
    "    email: str\n",
    "\n",
    "    def __post_init__(self):\n",
    "        self.sort_index = self.age\n",
    "        \n",
    "# sort_index = field, init = false ensures that it not instaciated, repr ensures that it not part of the repr"
   ]
  },
  {
   "cell_type": "code",
   "execution_count": null,
   "metadata": {},
   "outputs": [],
   "source": []
  },
  {
   "cell_type": "code",
   "execution_count": 7,
   "metadata": {},
   "outputs": [],
   "source": [
    "joe = Person('Joe', 25, 1.85, 'joe@dataquest.io')\n",
    "mary = Person('Mary', 43, 1.67, 'mary@dataquest.io')"
   ]
  },
  {
   "cell_type": "code",
   "execution_count": 8,
   "metadata": {},
   "outputs": [
    {
     "data": {
      "text/plain": [
       "False"
      ]
     },
     "execution_count": 8,
     "metadata": {},
     "output_type": "execute_result"
    }
   ],
   "source": [
    "joe>mary"
   ]
  },
  {
   "cell_type": "code",
   "execution_count": 9,
   "metadata": {},
   "outputs": [
    {
     "data": {
      "text/plain": [
       "True"
      ]
     },
     "execution_count": 9,
     "metadata": {},
     "output_type": "execute_result"
    }
   ],
   "source": [
    "mary>joe"
   ]
  },
  {
   "cell_type": "code",
   "execution_count": 12,
   "metadata": {},
   "outputs": [],
   "source": [
    "### Working with Immutable Data Classes\n",
    "# use the frozen attrivbute to work with immutable classes"
   ]
  },
  {
   "cell_type": "code",
   "execution_count": 13,
   "metadata": {},
   "outputs": [
    {
     "name": "stdout",
     "output_type": "stream",
     "text": [
      "Person(name='Joe', age=35, height=1.85, email='joe@dataquest.io')\n"
     ]
    }
   ],
   "source": [
    "@dataclass()\n",
    "class Person():\n",
    "    name: str\n",
    "    age: int\n",
    "    height: float\n",
    "    email: str\n",
    "\n",
    "joe = Person('Joe', 25, 1.85, 'joe@dataquest.io')\n",
    "\n",
    "joe.age = 35\n",
    "print(joe)"
   ]
  },
  {
   "cell_type": "code",
   "execution_count": 15,
   "metadata": {},
   "outputs": [
    {
     "ename": "FrozenInstanceError",
     "evalue": "cannot assign to field 'age'",
     "output_type": "error",
     "traceback": [
      "\u001b[1;31m---------------------------------------------------------------------------\u001b[0m",
      "\u001b[1;31mFrozenInstanceError\u001b[0m                       Traceback (most recent call last)",
      "Cell \u001b[1;32mIn[15], line 10\u001b[0m\n\u001b[0;32m      6\u001b[0m     email: \u001b[38;5;28mstr\u001b[39m\n\u001b[0;32m      8\u001b[0m joe \u001b[38;5;241m=\u001b[39m Person(\u001b[38;5;124m'\u001b[39m\u001b[38;5;124mJoe\u001b[39m\u001b[38;5;124m'\u001b[39m, \u001b[38;5;241m25\u001b[39m, \u001b[38;5;241m1.85\u001b[39m, \u001b[38;5;124m'\u001b[39m\u001b[38;5;124mjoe@dataquest.io\u001b[39m\u001b[38;5;124m'\u001b[39m)\n\u001b[1;32m---> 10\u001b[0m joe\u001b[38;5;241m.\u001b[39mage \u001b[38;5;241m=\u001b[39m \u001b[38;5;241m35\u001b[39m\n\u001b[0;32m     11\u001b[0m \u001b[38;5;28mprint\u001b[39m(joe)\n",
      "File \u001b[1;32m<string>:4\u001b[0m, in \u001b[0;36m__setattr__\u001b[1;34m(self, name, value)\u001b[0m\n",
      "\u001b[1;31mFrozenInstanceError\u001b[0m: cannot assign to field 'age'"
     ]
    }
   ],
   "source": [
    "@dataclass(frozen = True)\n",
    "class Person():\n",
    "    name: str\n",
    "    age: int\n",
    "    height: float\n",
    "    email: str\n",
    "\n",
    "joe = Person('Joe', 25, 1.85, 'joe@dataquest.io')\n",
    "\n",
    "joe.age = 35\n",
    "print(joe)"
   ]
  },
  {
   "cell_type": "code",
   "execution_count": null,
   "metadata": {},
   "outputs": [],
   "source": []
  }
 ],
 "metadata": {
  "kernelspec": {
   "display_name": "Python 3 (ipykernel)",
   "language": "python",
   "name": "python3"
  },
  "language_info": {
   "codemirror_mode": {
    "name": "ipython",
    "version": 3
   },
   "file_extension": ".py",
   "mimetype": "text/x-python",
   "name": "python",
   "nbconvert_exporter": "python",
   "pygments_lexer": "ipython3",
   "version": "3.10.9"
  }
 },
 "nbformat": 4,
 "nbformat_minor": 2
}
