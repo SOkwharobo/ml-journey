{
 "cells": [
  {
   "cell_type": "code",
   "execution_count": 2,
   "metadata": {},
   "outputs": [],
   "source": [
    "import numpy as np"
   ]
  },
  {
   "cell_type": "code",
   "execution_count": 4,
   "metadata": {},
   "outputs": [],
   "source": [
    "a = np.array([[1, 2, 3, 4], [5, 6, 7, 8], [9, 10, 11, 12]])"
   ]
  },
  {
   "cell_type": "code",
   "execution_count": 5,
   "metadata": {},
   "outputs": [
    {
     "data": {
      "text/plain": [
       "2"
      ]
     },
     "execution_count": 5,
     "metadata": {},
     "output_type": "execute_result"
    }
   ],
   "source": [
    "a.ndim"
   ]
  },
  {
   "cell_type": "code",
   "execution_count": 6,
   "metadata": {},
   "outputs": [
    {
     "data": {
      "text/plain": [
       "(3, 4)"
      ]
     },
     "execution_count": 6,
     "metadata": {},
     "output_type": "execute_result"
    }
   ],
   "source": [
    "a.shape"
   ]
  },
  {
   "cell_type": "code",
   "execution_count": 7,
   "metadata": {},
   "outputs": [
    {
     "data": {
      "text/plain": [
       "12"
      ]
     },
     "execution_count": 7,
     "metadata": {},
     "output_type": "execute_result"
    }
   ],
   "source": [
    "a.size"
   ]
  },
  {
   "cell_type": "code",
   "execution_count": 8,
   "metadata": {},
   "outputs": [
    {
     "data": {
      "text/plain": [
       "dtype('int32')"
      ]
     },
     "execution_count": 8,
     "metadata": {},
     "output_type": "execute_result"
    }
   ],
   "source": [
    "a.dtype"
   ]
  },
  {
   "cell_type": "code",
   "execution_count": 9,
   "metadata": {},
   "outputs": [
    {
     "data": {
      "text/plain": [
       "array([[ 1,  2,  3,  4],\n",
       "       [ 5,  6,  7,  8],\n",
       "       [ 9, 10, 11, 12]])"
      ]
     },
     "execution_count": 9,
     "metadata": {},
     "output_type": "execute_result"
    }
   ],
   "source": [
    "a"
   ]
  },
  {
   "cell_type": "code",
   "execution_count": 7,
   "metadata": {},
   "outputs": [
    {
     "data": {
      "text/plain": [
       "8"
      ]
     },
     "execution_count": 7,
     "metadata": {},
     "output_type": "execute_result"
    }
   ],
   "source": [
    "a[1,3]"
   ]
  },
  {
   "cell_type": "code",
   "execution_count": 3,
   "metadata": {},
   "outputs": [
    {
     "data": {
      "text/plain": [
       "array([[[ 1,  2,  4],\n",
       "        [ 4,  5,  6]],\n",
       "\n",
       "       [[ 7,  8,  9],\n",
       "        [10, 11, 12]]])"
      ]
     },
     "execution_count": 3,
     "metadata": {},
     "output_type": "execute_result"
    }
   ],
   "source": [
    "x = np.array([[[1,2,4],[4,5,6]],[[7,8,9],[10,11,12]]])\n",
    "x"
   ]
  },
  {
   "cell_type": "code",
   "execution_count": 11,
   "metadata": {},
   "outputs": [
    {
     "data": {
      "text/plain": [
       "(array([[1, 2, 4],\n",
       "        [4, 5, 6]]),\n",
       " array([[ 7,  8,  9],\n",
       "        [10, 11, 12]]))"
      ]
     },
     "execution_count": 11,
     "metadata": {},
     "output_type": "execute_result"
    }
   ],
   "source": [
    "x[0],x[1]"
   ]
  },
  {
   "cell_type": "code",
   "execution_count": 9,
   "metadata": {},
   "outputs": [
    {
     "data": {
      "text/plain": [
       "(3, (2, 2, 3))"
      ]
     },
     "execution_count": 9,
     "metadata": {},
     "output_type": "execute_result"
    }
   ],
   "source": [
    "x.ndim, x.shape"
   ]
  },
  {
   "cell_type": "code",
   "execution_count": 10,
   "metadata": {},
   "outputs": [
    {
     "data": {
      "text/plain": [
       "array([[[0., 0., 0.],\n",
       "        [0., 0., 0.],\n",
       "        [0., 0., 0.]],\n",
       "\n",
       "       [[0., 0., 0.],\n",
       "        [0., 0., 0.],\n",
       "        [0., 0., 0.]]])"
      ]
     },
     "execution_count": 10,
     "metadata": {},
     "output_type": "execute_result"
    }
   ],
   "source": [
    "np.zeros((2,3,3))"
   ]
  },
  {
   "cell_type": "code",
   "execution_count": 12,
   "metadata": {},
   "outputs": [
    {
     "data": {
      "text/plain": [
       "array([[1., 0., 0., 0., 0.],\n",
       "       [0., 1., 0., 0., 0.],\n",
       "       [0., 0., 1., 0., 0.],\n",
       "       [0., 0., 0., 1., 0.],\n",
       "       [0., 0., 0., 0., 1.]])"
      ]
     },
     "execution_count": 12,
     "metadata": {},
     "output_type": "execute_result"
    }
   ],
   "source": [
    "f = np.eye(5)\n",
    "f"
   ]
  },
  {
   "cell_type": "code",
   "execution_count": 13,
   "metadata": {},
   "outputs": [
    {
     "data": {
      "text/plain": [
       "(5, 5)"
      ]
     },
     "execution_count": 13,
     "metadata": {},
     "output_type": "execute_result"
    }
   ],
   "source": [
    "f.shape"
   ]
  },
  {
   "cell_type": "code",
   "execution_count": 13,
   "metadata": {},
   "outputs": [
    {
     "data": {
      "text/plain": [
       "array([ 1,  3,  5,  7,  9, 11, 13, 15, 17, 19])"
      ]
     },
     "execution_count": 13,
     "metadata": {},
     "output_type": "execute_result"
    }
   ],
   "source": [
    "np.arange(1, 20, 2)"
   ]
  },
  {
   "cell_type": "code",
   "execution_count": 29,
   "metadata": {},
   "outputs": [],
   "source": [
    "k = np.linspace(0, 10, )"
   ]
  },
  {
   "cell_type": "code",
   "execution_count": 30,
   "metadata": {},
   "outputs": [
    {
     "data": {
      "text/plain": [
       "array([ 0.        ,  0.20408163,  0.40816327,  0.6122449 ,  0.81632653,\n",
       "        1.02040816,  1.2244898 ,  1.42857143,  1.63265306,  1.83673469,\n",
       "        2.04081633,  2.24489796,  2.44897959,  2.65306122,  2.85714286,\n",
       "        3.06122449,  3.26530612,  3.46938776,  3.67346939,  3.87755102,\n",
       "        4.08163265,  4.28571429,  4.48979592,  4.69387755,  4.89795918,\n",
       "        5.10204082,  5.30612245,  5.51020408,  5.71428571,  5.91836735,\n",
       "        6.12244898,  6.32653061,  6.53061224,  6.73469388,  6.93877551,\n",
       "        7.14285714,  7.34693878,  7.55102041,  7.75510204,  7.95918367,\n",
       "        8.16326531,  8.36734694,  8.57142857,  8.7755102 ,  8.97959184,\n",
       "        9.18367347,  9.3877551 ,  9.59183673,  9.79591837, 10.        ])"
      ]
     },
     "execution_count": 30,
     "metadata": {},
     "output_type": "execute_result"
    }
   ],
   "source": [
    "k"
   ]
  },
  {
   "cell_type": "code",
   "execution_count": 31,
   "metadata": {},
   "outputs": [
    {
     "data": {
      "text/plain": [
       "array([[[ 1,  2,  4],\n",
       "        [ 4,  5,  6]],\n",
       "\n",
       "       [[ 7,  8,  9],\n",
       "        [10, 11, 12]]])"
      ]
     },
     "execution_count": 31,
     "metadata": {},
     "output_type": "execute_result"
    }
   ],
   "source": [
    "x"
   ]
  },
  {
   "cell_type": "code",
   "execution_count": 33,
   "metadata": {},
   "outputs": [
    {
     "data": {
      "text/plain": [
       "array([ 4,  4,  5,  6,  7,  8,  9, 10, 11, 12])"
      ]
     },
     "execution_count": 33,
     "metadata": {},
     "output_type": "execute_result"
    }
   ],
   "source": [
    "x[x>2]"
   ]
  },
  {
   "cell_type": "code",
   "execution_count": 17,
   "metadata": {},
   "outputs": [
    {
     "name": "stdout",
     "output_type": "stream",
     "text": [
      "(2, 3) · (3, 2) = (3, 3)\n"
     ]
    },
    {
     "data": {
      "text/plain": [
       "array([[ 39.,  54.,  69.],\n",
       "       [ 49.,  68.,  87.],\n",
       "       [ 59.,  82., 105.]])"
      ]
     },
     "execution_count": 17,
     "metadata": {},
     "output_type": "execute_result"
    }
   ],
   "source": [
    "# Dot product\n",
    "a = np.array([[1,2,3], [4,5,6]], dtype=np.float64) # we can specify dtype\n",
    "b = np.array([[7,8], [9,10], [11, 12]], dtype=np.float64)\n",
    "c = b.dot(a)\n",
    "print (f\"{a.shape} · {b.shape} = {c.shape}\")\n",
    "c"
   ]
  },
  {
   "cell_type": "code",
   "execution_count": 34,
   "metadata": {},
   "outputs": [
    {
     "data": {
      "text/plain": [
       "array([[1, 2],\n",
       "       [3, 4]])"
      ]
     },
     "execution_count": 34,
     "metadata": {},
     "output_type": "execute_result"
    }
   ],
   "source": [
    "z = np.array([[1,2],[3,4]])\n",
    "z"
   ]
  },
  {
   "cell_type": "code",
   "execution_count": 35,
   "metadata": {},
   "outputs": [
    {
     "data": {
      "text/plain": [
       "(10, array([4, 6]), array([3, 7]))"
      ]
     },
     "execution_count": 35,
     "metadata": {},
     "output_type": "execute_result"
    }
   ],
   "source": [
    "np.sum(z), np.sum(z, axis=0), np.sum(z, axis=1)"
   ]
  },
  {
   "cell_type": "code",
   "execution_count": 47,
   "metadata": {},
   "outputs": [],
   "source": [
    "a = np.array((3, 4, 5))\n",
    "b = np.expand_dims(a, axis=1)"
   ]
  },
  {
   "cell_type": "code",
   "execution_count": 48,
   "metadata": {},
   "outputs": [
    {
     "data": {
      "text/plain": [
       "array([3, 4, 5])"
      ]
     },
     "execution_count": 48,
     "metadata": {},
     "output_type": "execute_result"
    }
   ],
   "source": [
    "a"
   ]
  },
  {
   "cell_type": "code",
   "execution_count": 49,
   "metadata": {},
   "outputs": [
    {
     "data": {
      "text/plain": [
       "array([[3],\n",
       "       [4],\n",
       "       [5]])"
      ]
     },
     "execution_count": 49,
     "metadata": {},
     "output_type": "execute_result"
    }
   ],
   "source": [
    "b"
   ]
  },
  {
   "cell_type": "code",
   "execution_count": 50,
   "metadata": {},
   "outputs": [
    {
     "data": {
      "text/plain": [
       "((3,), (3, 1))"
      ]
     },
     "execution_count": 50,
     "metadata": {},
     "output_type": "execute_result"
    }
   ],
   "source": [
    "a.shape, b.shape"
   ]
  },
  {
   "cell_type": "code",
   "execution_count": 21,
   "metadata": {},
   "outputs": [
    {
     "data": {
      "text/plain": [
       "array([[3],\n",
       "       [4],\n",
       "       [5]])"
      ]
     },
     "execution_count": 21,
     "metadata": {},
     "output_type": "execute_result"
    }
   ],
   "source": [
    "b"
   ]
  },
  {
   "cell_type": "markdown",
   "metadata": {},
   "source": [
    "### Reshape Explanation\n",
    "\n",
    "**`reshape(-1, 1)`**:\n",
    "\n",
    "- The `reshape` method is used to change the shape of the array `a`.\n",
    "\n",
    "  - **`-1`**: This is a placeholder that tells NumPy to automatically determine the size of this dimension based on the other dimensions. Since the original array has 3 elements, `-1` is interpreted as `3` in this context.\n",
    "\n",
    "  - **`1`**: This specifies that the second dimension should have exactly 1 element.\n"
   ]
  },
  {
   "cell_type": "code",
   "execution_count": 39,
   "metadata": {},
   "outputs": [],
   "source": [
    "a = a.reshape(-1,1)"
   ]
  },
  {
   "cell_type": "code",
   "execution_count": 23,
   "metadata": {},
   "outputs": [
    {
     "data": {
      "text/plain": [
       "(3, 1)"
      ]
     },
     "execution_count": 23,
     "metadata": {},
     "output_type": "execute_result"
    }
   ],
   "source": [
    "a.shape"
   ]
  },
  {
   "cell_type": "code",
   "execution_count": 24,
   "metadata": {},
   "outputs": [
    {
     "data": {
      "text/plain": [
       "numpy.ndarray"
      ]
     },
     "execution_count": 24,
     "metadata": {},
     "output_type": "execute_result"
    }
   ],
   "source": [
    "type(a)"
   ]
  },
  {
   "cell_type": "code",
   "execution_count": 51,
   "metadata": {},
   "outputs": [],
   "source": [
    "a1 = np.array([1,2,3])"
   ]
  },
  {
   "cell_type": "code",
   "execution_count": 52,
   "metadata": {},
   "outputs": [
    {
     "data": {
      "text/plain": [
       "array([[1, 2, 3],\n",
       "       [1, 2, 3]])"
      ]
     },
     "execution_count": 52,
     "metadata": {},
     "output_type": "execute_result"
    }
   ],
   "source": [
    "a2 = np.array([[1,2,3],[1,2,3]])\n",
    "a2"
   ]
  },
  {
   "cell_type": "code",
   "execution_count": 53,
   "metadata": {},
   "outputs": [
    {
     "data": {
      "text/plain": [
       "(3,)"
      ]
     },
     "execution_count": 53,
     "metadata": {},
     "output_type": "execute_result"
    }
   ],
   "source": [
    "a1.shape"
   ]
  },
  {
   "cell_type": "code",
   "execution_count": 54,
   "metadata": {},
   "outputs": [
    {
     "data": {
      "text/plain": [
       "(2, 3)"
      ]
     },
     "execution_count": 54,
     "metadata": {},
     "output_type": "execute_result"
    }
   ],
   "source": [
    "a2.shape"
   ]
  },
  {
   "cell_type": "code",
   "execution_count": 55,
   "metadata": {},
   "outputs": [
    {
     "data": {
      "text/plain": [
       "array([[[ 1,  2,  3],\n",
       "        [ 4,  5,  6]],\n",
       "\n",
       "       [[ 7,  8,  9],\n",
       "        [10, 11, 12]]])"
      ]
     },
     "execution_count": 55,
     "metadata": {},
     "output_type": "execute_result"
    }
   ],
   "source": [
    "a_ = np.array([[[1,2,3],[4,5,6]],[[7,8,9],[10,11,12]]])\n",
    "a_"
   ]
  },
  {
   "cell_type": "code",
   "execution_count": 56,
   "metadata": {},
   "outputs": [
    {
     "data": {
      "text/plain": [
       "(2, 2, 3)"
      ]
     },
     "execution_count": 56,
     "metadata": {},
     "output_type": "execute_result"
    }
   ],
   "source": [
    "a_.shape"
   ]
  },
  {
   "cell_type": "code",
   "execution_count": 58,
   "metadata": {},
   "outputs": [
    {
     "name": "stdout",
     "output_type": "stream",
     "text": [
      "[[[ 2  4  6  5]\n",
      "  [ 5  7  9  5]]\n",
      "\n",
      " [[ 8 10 12  5]\n",
      "  [11 13 15  5]]]\n"
     ]
    }
   ],
   "source": [
    "import numpy as np\n",
    "\n",
    "# Creating two 3D arrays\n",
    "array_1 = np.array([[[1, 2, 3,4], [4, 5, 6,4]], \n",
    "                    [[7, 8, 9,4], [10, 11, 12,4]]])\n",
    "\n",
    "array_2 = np.array([[[1, 1, 1,5], [1, 1, 1,5]], \n",
    "                    [[1, 1, 1,8], [1, 1, 1,6]]])\n",
    "\n",
    "# Adding the arrays\n",
    "array_sum = array_1 + array_2\n",
    "\n",
    "# print(array_sum)\n",
    "\n",
    "# # Element-wise multiplication\n",
    "array_product = array_1 * array_2\n",
    "\n",
    "# print(array_product)\n",
    "\n",
    "# # Broadcasting: adding a 1D array to a 3D array\n",
    "array_broadcast = array_1 + np.array([1, 2, 3,1])\n",
    "\n",
    "print(array_broadcast)\n"
   ]
  },
  {
   "cell_type": "code",
   "execution_count": 60,
   "metadata": {},
   "outputs": [
    {
     "data": {
      "text/plain": [
       "(array([[[ 1,  2,  3,  4],\n",
       "         [ 4,  5,  6,  4]],\n",
       " \n",
       "        [[ 7,  8,  9,  4],\n",
       "         [10, 11, 12,  4]]]),\n",
       " (2, 2, 4))"
      ]
     },
     "execution_count": 60,
     "metadata": {},
     "output_type": "execute_result"
    }
   ],
   "source": [
    "array_1,array_1.shape"
   ]
  },
  {
   "cell_type": "code",
   "execution_count": 61,
   "metadata": {},
   "outputs": [
    {
     "data": {
      "text/plain": [
       "(array([[[1, 1, 1, 5],\n",
       "         [1, 1, 1, 5]],\n",
       " \n",
       "        [[1, 1, 1, 8],\n",
       "         [1, 1, 1, 6]]]),\n",
       " (2, 2, 4))"
      ]
     },
     "execution_count": 61,
     "metadata": {},
     "output_type": "execute_result"
    }
   ],
   "source": [
    "array_2,array_2.shape"
   ]
  },
  {
   "cell_type": "code",
   "execution_count": 32,
   "metadata": {},
   "outputs": [
    {
     "data": {
      "text/plain": [
       "(2, 2, 4)"
      ]
     },
     "execution_count": 32,
     "metadata": {},
     "output_type": "execute_result"
    }
   ],
   "source": [
    "array_1.shape"
   ]
  },
  {
   "cell_type": "code",
   "execution_count": 33,
   "metadata": {},
   "outputs": [],
   "source": [
    "sample_array = np.array([1,2,3])"
   ]
  },
  {
   "cell_type": "code",
   "execution_count": 34,
   "metadata": {},
   "outputs": [
    {
     "data": {
      "text/plain": [
       "array([[[1., 1., 1., 1.],\n",
       "        [1., 1., 1., 1.],\n",
       "        [1., 1., 1., 1.],\n",
       "        [1., 1., 1., 1.]],\n",
       "\n",
       "       [[1., 1., 1., 1.],\n",
       "        [1., 1., 1., 1.],\n",
       "        [1., 1., 1., 1.],\n",
       "        [1., 1., 1., 1.]],\n",
       "\n",
       "       [[1., 1., 1., 1.],\n",
       "        [1., 1., 1., 1.],\n",
       "        [1., 1., 1., 1.],\n",
       "        [1., 1., 1., 1.]],\n",
       "\n",
       "       [[1., 1., 1., 1.],\n",
       "        [1., 1., 1., 1.],\n",
       "        [1., 1., 1., 1.],\n",
       "        [1., 1., 1., 1.]]])"
      ]
     },
     "execution_count": 34,
     "metadata": {},
     "output_type": "execute_result"
    }
   ],
   "source": [
    "ones = np.ones((4,4,4))\n",
    "ones"
   ]
  },
  {
   "cell_type": "code",
   "execution_count": 35,
   "metadata": {},
   "outputs": [
    {
     "data": {
      "text/plain": [
       "array([[[ 1,  2,  3],\n",
       "        [ 4,  5,  6]],\n",
       "\n",
       "       [[ 7,  8,  9],\n",
       "        [10, 11, 12]]])"
      ]
     },
     "execution_count": 35,
     "metadata": {},
     "output_type": "execute_result"
    }
   ],
   "source": [
    "a_"
   ]
  },
  {
   "cell_type": "code",
   "execution_count": 36,
   "metadata": {},
   "outputs": [
    {
     "data": {
      "text/plain": [
       "(2, 2, 3)"
      ]
     },
     "execution_count": 36,
     "metadata": {},
     "output_type": "execute_result"
    }
   ],
   "source": [
    "a_.shape"
   ]
  },
  {
   "cell_type": "code",
   "execution_count": 37,
   "metadata": {},
   "outputs": [
    {
     "data": {
      "text/plain": [
       "3"
      ]
     },
     "execution_count": 37,
     "metadata": {},
     "output_type": "execute_result"
    }
   ],
   "source": [
    "ones.ndim"
   ]
  },
  {
   "cell_type": "code",
   "execution_count": 65,
   "metadata": {},
   "outputs": [
    {
     "name": "stdout",
     "output_type": "stream",
     "text": [
      "(3, 2, 4, 5)\n"
     ]
    }
   ],
   "source": [
    "array_4d = np.random.random((3, 2, 4, 5))\n",
    "print(array_4d.shape)  # Output: (3, 2, 4, 5)\n"
   ]
  },
  {
   "cell_type": "code",
   "execution_count": 66,
   "metadata": {},
   "outputs": [
    {
     "data": {
      "text/plain": [
       "array([[[[0.41581219, 0.46764797, 0.21485764, 0.36601751, 0.19170579],\n",
       "         [0.66291033, 0.68814179, 0.87451333, 0.13324957, 0.33262503],\n",
       "         [0.27276755, 0.03079383, 0.15078014, 0.62500619, 0.86304501],\n",
       "         [0.14777729, 0.90512325, 0.39854439, 0.83259836, 0.24282122]],\n",
       "\n",
       "        [[0.21249899, 0.51721201, 0.81603149, 0.58665475, 0.04208859],\n",
       "         [0.49113986, 0.1712418 , 0.071784  , 0.44481416, 0.15232077],\n",
       "         [0.69900018, 0.9792196 , 0.14256978, 0.65040092, 0.57878333],\n",
       "         [0.76283761, 0.31052281, 0.59803897, 0.16065879, 0.99141625]]],\n",
       "\n",
       "\n",
       "       [[[0.79639284, 0.41589329, 0.58027031, 0.46709029, 0.27126569],\n",
       "         [0.91335277, 0.78554291, 0.52798805, 0.02139378, 0.31616835],\n",
       "         [0.24616681, 0.14335104, 0.72693677, 0.95437416, 0.46597229],\n",
       "         [0.2149448 , 0.50278472, 0.19028784, 0.76314035, 0.58407083]],\n",
       "\n",
       "        [[0.14809294, 0.0587031 , 0.16591258, 0.23154255, 0.31419614],\n",
       "         [0.2649151 , 0.46915831, 0.98627565, 0.9859926 , 0.04510107],\n",
       "         [0.76007878, 0.99840656, 0.92248319, 0.1959367 , 0.91315663],\n",
       "         [0.00965217, 0.34233316, 0.32668823, 0.7746954 , 0.61155003]]],\n",
       "\n",
       "\n",
       "       [[[0.21142991, 0.42556533, 0.74006698, 0.2622535 , 0.74076717],\n",
       "         [0.59621124, 0.61865557, 0.98896989, 0.17648511, 0.91486934],\n",
       "         [0.26813936, 0.17739174, 0.71690711, 0.9558266 , 0.94186054],\n",
       "         [0.99539255, 0.36840179, 0.39876315, 0.79193567, 0.48249455]],\n",
       "\n",
       "        [[0.34822702, 0.28915447, 0.05784522, 0.94018836, 0.505497  ],\n",
       "         [0.78218433, 0.92978751, 0.22597972, 0.77820427, 0.88126389],\n",
       "         [0.10903113, 0.34144407, 0.7969835 , 0.2909104 , 0.25249928],\n",
       "         [0.44764947, 0.95772351, 0.71527421, 0.41752269, 0.8540659 ]]]])"
      ]
     },
     "execution_count": 66,
     "metadata": {},
     "output_type": "execute_result"
    }
   ],
   "source": [
    "array_4d"
   ]
  },
  {
   "cell_type": "code",
   "execution_count": 69,
   "metadata": {},
   "outputs": [
    {
     "data": {
      "text/plain": [
       "array([[[0.21142991, 0.42556533, 0.74006698, 0.2622535 , 0.74076717],\n",
       "        [0.59621124, 0.61865557, 0.98896989, 0.17648511, 0.91486934],\n",
       "        [0.26813936, 0.17739174, 0.71690711, 0.9558266 , 0.94186054],\n",
       "        [0.99539255, 0.36840179, 0.39876315, 0.79193567, 0.48249455]],\n",
       "\n",
       "       [[0.34822702, 0.28915447, 0.05784522, 0.94018836, 0.505497  ],\n",
       "        [0.78218433, 0.92978751, 0.22597972, 0.77820427, 0.88126389],\n",
       "        [0.10903113, 0.34144407, 0.7969835 , 0.2909104 , 0.25249928],\n",
       "        [0.44764947, 0.95772351, 0.71527421, 0.41752269, 0.8540659 ]]])"
      ]
     },
     "execution_count": 69,
     "metadata": {},
     "output_type": "execute_result"
    }
   ],
   "source": [
    "array_4d[2]"
   ]
  },
  {
   "cell_type": "code",
   "execution_count": 40,
   "metadata": {},
   "outputs": [
    {
     "data": {
      "text/plain": [
       "array([0, 3, 6, 9])"
      ]
     },
     "execution_count": 40,
     "metadata": {},
     "output_type": "execute_result"
    }
   ],
   "source": [
    "range_array = np.arange(start=0,stop=10, step=3)\n",
    "range_array"
   ]
  },
  {
   "cell_type": "code",
   "execution_count": 70,
   "metadata": {},
   "outputs": [
    {
     "data": {
      "text/plain": [
       "array([[ 9, 19, 20, 12, 40],\n",
       "       [31, 16, 34, 10, 17],\n",
       "       [19, 34, 24, 18, 31]])"
      ]
     },
     "execution_count": 70,
     "metadata": {},
     "output_type": "execute_result"
    }
   ],
   "source": [
    "rand_array = np.random.randint(1,50,(3,5))\n",
    "rand_array"
   ]
  },
  {
   "cell_type": "code",
   "execution_count": 42,
   "metadata": {},
   "outputs": [
    {
     "data": {
      "text/plain": [
       "array([[0.38642822, 0.78797369, 0.6866452 ],\n",
       "       [0.91648221, 0.56482733, 0.68278474],\n",
       "       [0.64224435, 0.0867411 , 0.04271224],\n",
       "       [0.23701781, 0.9195877 , 0.66284565],\n",
       "       [0.36166381, 0.10289551, 0.43366931]])"
      ]
     },
     "execution_count": 42,
     "metadata": {},
     "output_type": "execute_result"
    }
   ],
   "source": [
    "np.random.random((5,3))"
   ]
  },
  {
   "cell_type": "code",
   "execution_count": 73,
   "metadata": {},
   "outputs": [
    {
     "data": {
      "text/plain": [
       "array([[[[0.49227912, 0.07150568, 0.78469238, 0.36444893, 0.51037131],\n",
       "         [0.26739469, 0.92069147, 0.37835507, 0.02078577, 0.52864916],\n",
       "         [0.88215443, 0.25648002, 0.65625665, 0.98860772, 0.10026837],\n",
       "         [0.2032632 , 0.54826449, 0.20956612, 0.99898839, 0.06804328]],\n",
       "\n",
       "        [[0.37846342, 0.77640363, 0.04310635, 0.77623428, 0.84810653],\n",
       "         [0.23310827, 0.07388796, 0.57818352, 0.28121739, 0.90131746],\n",
       "         [0.80683449, 0.73961238, 0.91110338, 0.99837415, 0.8758025 ],\n",
       "         [0.49918384, 0.95995333, 0.78759403, 0.14738009, 0.23032129]]],\n",
       "\n",
       "\n",
       "       [[[0.303698  , 0.40516687, 0.51643885, 0.29617679, 0.82303862],\n",
       "         [0.61303216, 0.20223784, 0.86763254, 0.71661533, 0.02797115],\n",
       "         [0.70562624, 0.07429186, 0.58895141, 0.22996665, 0.32091843],\n",
       "         [0.71146292, 0.19597507, 0.15025352, 0.91482907, 0.07006528]],\n",
       "\n",
       "        [[0.41900038, 0.80363966, 0.47935315, 0.09751643, 0.56866384],\n",
       "         [0.74955453, 0.66654914, 0.73672877, 0.89467639, 0.47100824],\n",
       "         [0.0608182 , 0.15361914, 0.99150923, 0.98710732, 0.57062941],\n",
       "         [0.56953503, 0.59400288, 0.5308629 , 0.53365551, 0.31287391]]],\n",
       "\n",
       "\n",
       "       [[[0.87671199, 0.19286667, 0.08987016, 0.55725275, 0.97320588],\n",
       "         [0.02856809, 0.09421263, 0.22467356, 0.33543482, 0.29191932],\n",
       "         [0.82124948, 0.00844439, 0.08387142, 0.94519456, 0.27356103],\n",
       "         [0.24211879, 0.02131617, 0.08883267, 0.31927724, 0.59074659]],\n",
       "\n",
       "        [[0.36780801, 0.12363792, 0.11790293, 0.50109338, 0.39931054],\n",
       "         [0.76544505, 0.53918899, 0.73775081, 0.32509739, 0.79257135],\n",
       "         [0.75585499, 0.3386988 , 0.3423887 , 0.0703013 , 0.66380786],\n",
       "         [0.98239572, 0.57847149, 0.77966951, 0.30354218, 0.47728692]]]])"
      ]
     },
     "execution_count": 73,
     "metadata": {},
     "output_type": "execute_result"
    }
   ],
   "source": [
    "np.random.rand(3, 2, 4, 5)"
   ]
  },
  {
   "cell_type": "code",
   "execution_count": 44,
   "metadata": {},
   "outputs": [
    {
     "data": {
      "text/plain": [
       "array([[[1., 1.],\n",
       "        [1., 1.],\n",
       "        [1., 1.]],\n",
       "\n",
       "       [[1., 1.],\n",
       "        [1., 1.],\n",
       "        [1., 1.]],\n",
       "\n",
       "       [[1., 1.],\n",
       "        [1., 1.],\n",
       "        [1., 1.]],\n",
       "\n",
       "       [[1., 1.],\n",
       "        [1., 1.],\n",
       "        [1., 1.]]])"
      ]
     },
     "execution_count": 44,
     "metadata": {},
     "output_type": "execute_result"
    }
   ],
   "source": [
    "np.ones((4,3,2))"
   ]
  },
  {
   "cell_type": "code",
   "execution_count": 74,
   "metadata": {},
   "outputs": [
    {
     "data": {
      "text/plain": [
       "array([[[0.58646289, 0.50937439],\n",
       "        [0.68210655, 0.07642965],\n",
       "        [0.30880273, 0.73962249]],\n",
       "\n",
       "       [[0.60273586, 0.84981686],\n",
       "        [0.56573711, 0.76499546],\n",
       "        [0.34157058, 0.41214323]],\n",
       "\n",
       "       [[0.31035231, 0.42898344],\n",
       "        [0.1264442 , 0.87833754],\n",
       "        [0.59751714, 0.41071091]],\n",
       "\n",
       "       [[0.54941971, 0.34900517],\n",
       "        [0.11741154, 0.4808642 ],\n",
       "        [0.60911942, 0.01729142]]])"
      ]
     },
     "execution_count": 74,
     "metadata": {},
     "output_type": "execute_result"
    }
   ],
   "source": [
    "np.random.rand(4,3,2)"
   ]
  },
  {
   "cell_type": "code",
   "execution_count": 75,
   "metadata": {},
   "outputs": [
    {
     "data": {
      "text/plain": [
       "array([[[[0.41581219, 0.46764797, 0.21485764, 0.36601751, 0.19170579],\n",
       "         [0.66291033, 0.68814179, 0.87451333, 0.13324957, 0.33262503],\n",
       "         [0.27276755, 0.03079383, 0.15078014, 0.62500619, 0.86304501],\n",
       "         [0.14777729, 0.90512325, 0.39854439, 0.83259836, 0.24282122]],\n",
       "\n",
       "        [[0.21249899, 0.51721201, 0.81603149, 0.58665475, 0.04208859],\n",
       "         [0.49113986, 0.1712418 , 0.071784  , 0.44481416, 0.15232077],\n",
       "         [0.69900018, 0.9792196 , 0.14256978, 0.65040092, 0.57878333],\n",
       "         [0.76283761, 0.31052281, 0.59803897, 0.16065879, 0.99141625]]],\n",
       "\n",
       "\n",
       "       [[[0.79639284, 0.41589329, 0.58027031, 0.46709029, 0.27126569],\n",
       "         [0.91335277, 0.78554291, 0.52798805, 0.02139378, 0.31616835],\n",
       "         [0.24616681, 0.14335104, 0.72693677, 0.95437416, 0.46597229],\n",
       "         [0.2149448 , 0.50278472, 0.19028784, 0.76314035, 0.58407083]],\n",
       "\n",
       "        [[0.14809294, 0.0587031 , 0.16591258, 0.23154255, 0.31419614],\n",
       "         [0.2649151 , 0.46915831, 0.98627565, 0.9859926 , 0.04510107],\n",
       "         [0.76007878, 0.99840656, 0.92248319, 0.1959367 , 0.91315663],\n",
       "         [0.00965217, 0.34233316, 0.32668823, 0.7746954 , 0.61155003]]],\n",
       "\n",
       "\n",
       "       [[[0.21142991, 0.42556533, 0.74006698, 0.2622535 , 0.74076717],\n",
       "         [0.59621124, 0.61865557, 0.98896989, 0.17648511, 0.91486934],\n",
       "         [0.26813936, 0.17739174, 0.71690711, 0.9558266 , 0.94186054],\n",
       "         [0.99539255, 0.36840179, 0.39876315, 0.79193567, 0.48249455]],\n",
       "\n",
       "        [[0.34822702, 0.28915447, 0.05784522, 0.94018836, 0.505497  ],\n",
       "         [0.78218433, 0.92978751, 0.22597972, 0.77820427, 0.88126389],\n",
       "         [0.10903113, 0.34144407, 0.7969835 , 0.2909104 , 0.25249928],\n",
       "         [0.44764947, 0.95772351, 0.71527421, 0.41752269, 0.8540659 ]]]])"
      ]
     },
     "execution_count": 75,
     "metadata": {},
     "output_type": "execute_result"
    }
   ],
   "source": [
    "array_4d"
   ]
  },
  {
   "cell_type": "code",
   "execution_count": 76,
   "metadata": {},
   "outputs": [
    {
     "data": {
      "text/plain": [
       "(3, 2, 4, 5)"
      ]
     },
     "execution_count": 76,
     "metadata": {},
     "output_type": "execute_result"
    }
   ],
   "source": [
    "array_4d.shape\n"
   ]
  },
  {
   "cell_type": "code",
   "execution_count": 79,
   "metadata": {},
   "outputs": [
    {
     "data": {
      "text/plain": [
       "array([[[0.21142991, 0.42556533, 0.74006698, 0.2622535 , 0.74076717],\n",
       "        [0.59621124, 0.61865557, 0.98896989, 0.17648511, 0.91486934],\n",
       "        [0.26813936, 0.17739174, 0.71690711, 0.9558266 , 0.94186054],\n",
       "        [0.99539255, 0.36840179, 0.39876315, 0.79193567, 0.48249455]],\n",
       "\n",
       "       [[0.34822702, 0.28915447, 0.05784522, 0.94018836, 0.505497  ],\n",
       "        [0.78218433, 0.92978751, 0.22597972, 0.77820427, 0.88126389],\n",
       "        [0.10903113, 0.34144407, 0.7969835 , 0.2909104 , 0.25249928],\n",
       "        [0.44764947, 0.95772351, 0.71527421, 0.41752269, 0.8540659 ]]])"
      ]
     },
     "execution_count": 79,
     "metadata": {},
     "output_type": "execute_result"
    }
   ],
   "source": [
    "array_4d[2]"
   ]
  },
  {
   "cell_type": "code",
   "execution_count": 80,
   "metadata": {},
   "outputs": [
    {
     "data": {
      "text/plain": [
       "array([[[[ 0,  6,  9,  4, 10],\n",
       "         [13,  8, 13,  4,  4],\n",
       "         [12, 11,  4,  6, 19],\n",
       "         [ 1,  3,  7,  2,  4]],\n",
       "\n",
       "        [[18,  6,  0,  4,  1],\n",
       "         [14,  5, 11, 19,  1],\n",
       "         [18, 17,  5,  8, 17],\n",
       "         [17, 17, 15, 18,  9]]],\n",
       "\n",
       "\n",
       "       [[[ 8,  5,  9, 10, 11],\n",
       "         [ 7, 11,  1, 14, 10],\n",
       "         [18, 16, 18, 14, 11],\n",
       "         [ 8,  9, 18, 15,  7]],\n",
       "\n",
       "        [[17,  0,  6, 13, 15],\n",
       "         [ 6,  2, 15, 11,  0],\n",
       "         [ 4, 18,  6, 14, 13],\n",
       "         [ 1, 17,  0,  8, 18]]],\n",
       "\n",
       "\n",
       "       [[[ 3, 14,  0,  5,  1],\n",
       "         [ 6, 14,  4, 11,  1],\n",
       "         [10,  8, 13, 15, 16],\n",
       "         [19,  0,  3, 12,  4]],\n",
       "\n",
       "        [[ 4, 14,  6,  7, 17],\n",
       "         [ 0,  2,  8,  5,  8],\n",
       "         [13,  9,  3, 12, 11],\n",
       "         [ 9,  8,  7, 19,  3]]]])"
      ]
     },
     "execution_count": 80,
     "metadata": {},
     "output_type": "execute_result"
    }
   ],
   "source": [
    "array_4d_random = np.random.randint(low=0,high=20 ,size=(3,2,4,5))\n",
    "array_4d_random"
   ]
  },
  {
   "cell_type": "code",
   "execution_count": 85,
   "metadata": {},
   "outputs": [
    {
     "data": {
      "text/plain": [
       "19"
      ]
     },
     "execution_count": 85,
     "metadata": {},
     "output_type": "execute_result"
    }
   ],
   "source": [
    "array_4d_random[2][0][3,0]"
   ]
  },
  {
   "cell_type": "code",
   "execution_count": 86,
   "metadata": {},
   "outputs": [
    {
     "ename": "NameError",
     "evalue": "name 'ones' is not defined",
     "output_type": "error",
     "traceback": [
      "\u001b[1;31m---------------------------------------------------------------------------\u001b[0m",
      "\u001b[1;31mNameError\u001b[0m                                 Traceback (most recent call last)",
      "Cell \u001b[1;32mIn[86], line 1\u001b[0m\n\u001b[1;32m----> 1\u001b[0m \u001b[43mones\u001b[49m\n",
      "\u001b[1;31mNameError\u001b[0m: name 'ones' is not defined"
     ]
    }
   ],
   "source": [
    "ones"
   ]
  },
  {
   "cell_type": "code",
   "execution_count": 52,
   "metadata": {},
   "outputs": [
    {
     "data": {
      "text/plain": [
       "(4, 4, 4)"
      ]
     },
     "execution_count": 52,
     "metadata": {},
     "output_type": "execute_result"
    }
   ],
   "source": [
    "ones.shape"
   ]
  },
  {
   "cell_type": "code",
   "execution_count": 53,
   "metadata": {},
   "outputs": [
    {
     "data": {
      "text/plain": [
       "array([[1., 1., 1., 1.],\n",
       "       [1., 1., 1., 1.],\n",
       "       [1., 1., 1., 1.],\n",
       "       [1., 1., 1., 1.]])"
      ]
     },
     "execution_count": 53,
     "metadata": {},
     "output_type": "execute_result"
    }
   ],
   "source": [
    "ones[3]"
   ]
  },
  {
   "cell_type": "code",
   "execution_count": 54,
   "metadata": {},
   "outputs": [],
   "source": [
    "ones = np.random.uniform(0,20,(4,4,4))"
   ]
  },
  {
   "cell_type": "code",
   "execution_count": 55,
   "metadata": {},
   "outputs": [
    {
     "data": {
      "text/plain": [
       "(4, 4, 4)"
      ]
     },
     "execution_count": 55,
     "metadata": {},
     "output_type": "execute_result"
    }
   ],
   "source": [
    "ones.shape"
   ]
  },
  {
   "cell_type": "code",
   "execution_count": 56,
   "metadata": {},
   "outputs": [
    {
     "data": {
      "text/plain": [
       "64"
      ]
     },
     "execution_count": 56,
     "metadata": {},
     "output_type": "execute_result"
    }
   ],
   "source": [
    "ones.size"
   ]
  },
  {
   "cell_type": "markdown",
   "metadata": {},
   "source": [
    "### Manipulating & Comapring arrays"
   ]
  },
  {
   "cell_type": "markdown",
   "metadata": {},
   "source": [
    "#### Arithmetic"
   ]
  },
  {
   "cell_type": "code",
   "execution_count": 88,
   "metadata": {},
   "outputs": [
    {
     "data": {
      "text/plain": [
       "array([2., 3., 4.])"
      ]
     },
     "execution_count": 88,
     "metadata": {},
     "output_type": "execute_result"
    }
   ],
   "source": [
    " a1 + np.ones(3)"
   ]
  },
  {
   "cell_type": "code",
   "execution_count": 89,
   "metadata": {},
   "outputs": [
    {
     "data": {
      "text/plain": [
       "array([[1, 4, 9],\n",
       "       [1, 4, 9]])"
      ]
     },
     "execution_count": 89,
     "metadata": {},
     "output_type": "execute_result"
    }
   ],
   "source": [
    "a1 * a2"
   ]
  },
  {
   "cell_type": "code",
   "execution_count": 90,
   "metadata": {},
   "outputs": [
    {
     "data": {
      "text/plain": [
       "array([[1, 2, 3],\n",
       "       [1, 2, 3]])"
      ]
     },
     "execution_count": 90,
     "metadata": {},
     "output_type": "execute_result"
    }
   ],
   "source": [
    "a2"
   ]
  },
  {
   "cell_type": "code",
   "execution_count": 91,
   "metadata": {},
   "outputs": [
    {
     "data": {
      "text/plain": [
       "array([1, 2, 3])"
      ]
     },
     "execution_count": 91,
     "metadata": {},
     "output_type": "execute_result"
    }
   ],
   "source": [
    "a1"
   ]
  },
  {
   "cell_type": "code",
   "execution_count": 61,
   "metadata": {},
   "outputs": [
    {
     "ename": "NameError",
     "evalue": "name 'a3' is not defined",
     "output_type": "error",
     "traceback": [
      "\u001b[1;31m---------------------------------------------------------------------------\u001b[0m",
      "\u001b[1;31mNameError\u001b[0m                                 Traceback (most recent call last)",
      "Cell \u001b[1;32mIn[61], line 1\u001b[0m\n\u001b[1;32m----> 1\u001b[0m a2 \u001b[38;5;241m*\u001b[39m \u001b[43ma3\u001b[49m\n",
      "\u001b[1;31mNameError\u001b[0m: name 'a3' is not defined"
     ]
    }
   ],
   "source": [
    "a2 * a3"
   ]
  },
  {
   "cell_type": "code",
   "execution_count": 93,
   "metadata": {},
   "outputs": [
    {
     "data": {
      "text/plain": [
       "array([[[0, 2, 5],\n",
       "        [2, 2, 4],\n",
       "        [4, 2, 4]],\n",
       "\n",
       "       [[0, 2, 5],\n",
       "        [2, 5, 4],\n",
       "        [0, 0, 4]]])"
      ]
     },
     "execution_count": 93,
     "metadata": {},
     "output_type": "execute_result"
    }
   ],
   "source": [
    "a3 = np.random.randint(low=0,high=6,size=(2,3,3))\n",
    "a3"
   ]
  },
  {
   "cell_type": "code",
   "execution_count": 94,
   "metadata": {},
   "outputs": [
    {
     "ename": "ValueError",
     "evalue": "operands could not be broadcast together with shapes (2,3) (2,3,3) ",
     "output_type": "error",
     "traceback": [
      "\u001b[1;31m---------------------------------------------------------------------------\u001b[0m",
      "\u001b[1;31mValueError\u001b[0m                                Traceback (most recent call last)",
      "Cell \u001b[1;32mIn[94], line 1\u001b[0m\n\u001b[1;32m----> 1\u001b[0m \u001b[43ma2\u001b[49m\u001b[43m \u001b[49m\u001b[38;5;241;43m*\u001b[39;49m\u001b[43ma3\u001b[49m\n",
      "\u001b[1;31mValueError\u001b[0m: operands could not be broadcast together with shapes (2,3) (2,3,3) "
     ]
    }
   ],
   "source": [
    "a2 *a3"
   ]
  },
  {
   "cell_type": "code",
   "execution_count": 75,
   "metadata": {},
   "outputs": [
    {
     "data": {
      "text/plain": [
       "(2, 3)"
      ]
     },
     "execution_count": 75,
     "metadata": {},
     "output_type": "execute_result"
    }
   ],
   "source": [
    "a2.shape"
   ]
  },
  {
   "cell_type": "code",
   "execution_count": 107,
   "metadata": {},
   "outputs": [
    {
     "data": {
      "text/plain": [
       "(2, 1, 3)"
      ]
     },
     "execution_count": 107,
     "metadata": {},
     "output_type": "execute_result"
    }
   ],
   "source": [
    "a2_chagend = np.expand_dims(a2,1).shape\n",
    "a2_chagend"
   ]
  },
  {
   "cell_type": "code",
   "execution_count": 103,
   "metadata": {},
   "outputs": [
    {
     "data": {
      "text/plain": [
       "array([[[ 0,  2, 15],\n",
       "        [ 4,  2, 12],\n",
       "        [ 8,  2, 12]],\n",
       "\n",
       "       [[ 0,  2, 15],\n",
       "        [ 4,  5, 12],\n",
       "        [ 0,  0, 12]]])"
      ]
     },
     "execution_count": 103,
     "metadata": {},
     "output_type": "execute_result"
    }
   ],
   "source": [
    "a2_chagend * a3"
   ]
  },
  {
   "cell_type": "code",
   "execution_count": 76,
   "metadata": {},
   "outputs": [
    {
     "data": {
      "text/plain": [
       "(2, 3, 3)"
      ]
     },
     "execution_count": 76,
     "metadata": {},
     "output_type": "execute_result"
    }
   ],
   "source": [
    "a3.shape"
   ]
  },
  {
   "cell_type": "code",
   "execution_count": 69,
   "metadata": {},
   "outputs": [],
   "source": [
    "# Array A has shape (3, 2)\n",
    "A = np.array([[1, 2],\n",
    "              [3, 4],\n",
    "              [5, 6]])\n",
    "\n",
    "# Array B has shape (2, 2)\n",
    "B = np.array([[10, 20],\n",
    "              [30, 40]])"
   ]
  },
  {
   "cell_type": "code",
   "execution_count": 71,
   "metadata": {},
   "outputs": [
    {
     "data": {
      "text/plain": [
       "(2, 2)"
      ]
     },
     "execution_count": 71,
     "metadata": {},
     "output_type": "execute_result"
    }
   ],
   "source": [
    "A.ndim,B.ndim"
   ]
  },
  {
   "cell_type": "code",
   "execution_count": 72,
   "metadata": {},
   "outputs": [],
   "source": [
    "# Array A has shape (3, 2)\n",
    "A = np.array([[1, 2],\n",
    "              [3, 4],\n",
    "              [5, 6]])\n",
    "\n",
    "# Array B has shape (1, 2) - broadcasting will stretch this to (3, 2)\n",
    "B = np.array([[10, 20]])"
   ]
  },
  {
   "cell_type": "code",
   "execution_count": 74,
   "metadata": {},
   "outputs": [
    {
     "data": {
      "text/plain": [
       "((3, 2), (1, 2))"
      ]
     },
     "execution_count": 74,
     "metadata": {},
     "output_type": "execute_result"
    }
   ],
   "source": [
    "A.shape,B.shape"
   ]
  },
  {
   "cell_type": "code",
   "execution_count": 77,
   "metadata": {},
   "outputs": [
    {
     "data": {
      "text/plain": [
       "array([[[2, 0, 1],\n",
       "        [2, 2, 4],\n",
       "        [4, 5, 1]],\n",
       "\n",
       "       [[4, 3, 5],\n",
       "        [0, 3, 2],\n",
       "        [2, 0, 0]]])"
      ]
     },
     "execution_count": 77,
     "metadata": {},
     "output_type": "execute_result"
    }
   ],
   "source": [
    "a3"
   ]
  },
  {
   "cell_type": "code",
   "execution_count": 86,
   "metadata": {},
   "outputs": [
    {
     "data": {
      "text/plain": [
       "array([[[ 2,  0,  1],\n",
       "        [ 4,  4,  8],\n",
       "        [12, 15,  3]],\n",
       "\n",
       "       [[ 4,  3,  5],\n",
       "        [ 0,  6,  4],\n",
       "        [ 6,  0,  0]]])"
      ]
     },
     "execution_count": 86,
     "metadata": {},
     "output_type": "execute_result"
    }
   ],
   "source": [
    "a2_reshaped = a2.reshape(2,3,1)\n",
    "a2_reshaped* a3"
   ]
  },
  {
   "cell_type": "code",
   "execution_count": 87,
   "metadata": {},
   "outputs": [
    {
     "data": {
      "text/plain": [
       "array([[[1],\n",
       "        [2],\n",
       "        [3]],\n",
       "\n",
       "       [[1],\n",
       "        [2],\n",
       "        [3]]])"
      ]
     },
     "execution_count": 87,
     "metadata": {},
     "output_type": "execute_result"
    }
   ],
   "source": [
    "a2_reshaped"
   ]
  },
  {
   "cell_type": "code",
   "execution_count": 109,
   "metadata": {},
   "outputs": [
    {
     "data": {
      "text/plain": [
       "array([[[1],\n",
       "        [2],\n",
       "        [3]],\n",
       "\n",
       "       [[1],\n",
       "        [2],\n",
       "        [3]]])"
      ]
     },
     "execution_count": 109,
     "metadata": {},
     "output_type": "execute_result"
    }
   ],
   "source": [
    "array_2d_expanded = a2[:, :, np.newaxis]\n",
    "array_2d_expanded"
   ]
  },
  {
   "cell_type": "code",
   "execution_count": 110,
   "metadata": {},
   "outputs": [
    {
     "data": {
      "text/plain": [
       "(4,)"
      ]
     },
     "execution_count": 110,
     "metadata": {},
     "output_type": "execute_result"
    }
   ],
   "source": [
    "k = np.array([2,0,1,8])\n",
    "k.shape"
   ]
  },
  {
   "cell_type": "code",
   "execution_count": 111,
   "metadata": {},
   "outputs": [
    {
     "data": {
      "text/plain": [
       "(1, 4)"
      ]
     },
     "execution_count": 111,
     "metadata": {},
     "output_type": "execute_result"
    }
   ],
   "source": [
    "k_2 = k[np.newaxis,:]\n",
    "k_2.shape"
   ]
  },
  {
   "cell_type": "code",
   "execution_count": 112,
   "metadata": {},
   "outputs": [
    {
     "data": {
      "text/plain": [
       "(4, 1)"
      ]
     },
     "execution_count": 112,
     "metadata": {},
     "output_type": "execute_result"
    }
   ],
   "source": [
    "k_2b = k[:,np.newaxis]\n",
    "k_2b.shape"
   ]
  },
  {
   "cell_type": "code",
   "execution_count": 116,
   "metadata": {},
   "outputs": [
    {
     "data": {
      "text/plain": [
       "(4, 1)"
      ]
     },
     "execution_count": 116,
     "metadata": {},
     "output_type": "execute_result"
    }
   ],
   "source": [
    "k_2c = np.expand_dims(k,1)\n",
    "k_2c.shape"
   ]
  },
  {
   "cell_type": "code",
   "execution_count": 105,
   "metadata": {},
   "outputs": [
    {
     "data": {
      "text/plain": [
       "array([[1, 4, 9],\n",
       "       [1, 4, 9]])"
      ]
     },
     "execution_count": 105,
     "metadata": {},
     "output_type": "execute_result"
    }
   ],
   "source": [
    "np.square(a2)"
   ]
  },
  {
   "cell_type": "code",
   "execution_count": 108,
   "metadata": {},
   "outputs": [
    {
     "data": {
      "text/plain": [
       "array([0.99586871, 0.76626763, 0.48625546, 0.98537593, 0.69212358,\n",
       "       0.76235498, 0.88769434, 0.18349222, 0.38879272, 0.83554452,\n",
       "       0.53731046, 0.04639973, 0.1194004 , 0.51492328, 0.22099751,\n",
       "       0.83982425, 0.77773923, 0.69622444, 0.56585955, 0.94303585,\n",
       "       0.20481995, 0.32410778, 0.83880436, 0.32708635, 0.1846465 ,\n",
       "       0.43600545, 0.36895944, 0.43779918, 0.64346038, 0.97962726,\n",
       "       0.2723109 , 0.77215014, 0.746698  , 0.17247351, 0.25689736,\n",
       "       0.1675767 , 0.81828625, 0.37458147, 0.25445429, 0.13239271,\n",
       "       0.69904227, 0.9842902 , 0.3577334 , 0.49346351, 0.99523876,\n",
       "       0.2858994 , 0.22558746, 0.53808273, 0.85736244, 0.52997456,\n",
       "       0.95012167, 0.96023112, 0.53075001, 0.55675595, 0.60345732,\n",
       "       0.61832908, 0.28873088, 0.48657216, 0.14948783, 0.98724545,\n",
       "       0.83335919, 0.53950311, 0.70788745, 0.35961101, 0.794206  ,\n",
       "       0.40003894, 0.48603308, 0.33662621, 0.91920068, 0.86164006,\n",
       "       0.8635717 , 0.37369324, 0.17479048, 0.26004082, 0.84771432,\n",
       "       0.16969186, 0.14639678, 0.1349298 , 0.42320938, 0.30433563,\n",
       "       0.548653  , 0.16073794, 0.67831082, 0.61520671, 0.19613909,\n",
       "       0.44099407, 0.26652216, 0.84346911, 0.11108891, 0.39564505,\n",
       "       0.54547142, 0.26195723, 0.45853816, 0.16660884, 0.45429545,\n",
       "       0.60806745, 0.07110016, 0.64275176, 0.47732394, 0.30733486])"
      ]
     },
     "execution_count": 108,
     "metadata": {},
     "output_type": "execute_result"
    }
   ],
   "source": [
    "massive_array = np.random.random(100)\n",
    "massive_array"
   ]
  },
  {
   "cell_type": "code",
   "execution_count": 109,
   "metadata": {},
   "outputs": [
    {
     "name": "stdout",
     "output_type": "stream",
     "text": [
      "14.4 µs ± 2.59 µs per loop (mean ± std. dev. of 7 runs, 10,000 loops each)\n"
     ]
    }
   ],
   "source": [
    "%timeit sum(massive_array)"
   ]
  },
  {
   "cell_type": "code",
   "execution_count": 110,
   "metadata": {},
   "outputs": [
    {
     "name": "stdout",
     "output_type": "stream",
     "text": [
      "7.62 µs ± 537 ns per loop (mean ± std. dev. of 7 runs, 100,000 loops each)\n"
     ]
    }
   ],
   "source": [
    "%timeit np.sum(massive_array)"
   ]
  },
  {
   "cell_type": "code",
   "execution_count": 111,
   "metadata": {},
   "outputs": [
    {
     "data": {
      "text/plain": [
       "0.6666666666666666"
      ]
     },
     "execution_count": 111,
     "metadata": {},
     "output_type": "execute_result"
    }
   ],
   "source": [
    "np.var(a2)"
   ]
  },
  {
   "cell_type": "code",
   "execution_count": 112,
   "metadata": {},
   "outputs": [
    {
     "data": {
      "text/plain": [
       "array([[1, 2, 3],\n",
       "       [1, 2, 3]])"
      ]
     },
     "execution_count": 112,
     "metadata": {},
     "output_type": "execute_result"
    }
   ],
   "source": [
    "a2"
   ]
  },
  {
   "cell_type": "code",
   "execution_count": 114,
   "metadata": {},
   "outputs": [],
   "source": [
    "import matplotlib.pyplot as plt"
   ]
  },
  {
   "cell_type": "code",
   "execution_count": 115,
   "metadata": {},
   "outputs": [
    {
     "data": {
      "text/plain": [
       "(array([[2., 0., 0., 0., 0., 0., 0., 0., 0., 0.],\n",
       "        [0., 0., 0., 0., 0., 2., 0., 0., 0., 0.],\n",
       "        [0., 0., 0., 0., 0., 0., 0., 0., 0., 2.]]),\n",
       " array([1. , 1.2, 1.4, 1.6, 1.8, 2. , 2.2, 2.4, 2.6, 2.8, 3. ]),\n",
       " <a list of 3 BarContainer objects>)"
      ]
     },
     "execution_count": 115,
     "metadata": {},
     "output_type": "execute_result"
    },
    {
     "data": {
      "image/png": "[encoded data removed]",
      "text/plain": [
       "<Figure size 640x480 with 1 Axes>"
      ]
     },
     "metadata": {},
     "output_type": "display_data"
    }
   ],
   "source": [
    "plt.hist(a2)"
   ]
  },
  {
   "cell_type": "code",
   "execution_count": 123,
   "metadata": {},
   "outputs": [
    {
     "data": {
      "text/plain": [
       "array([[1, 1],\n",
       "       [2, 2],\n",
       "       [3, 3]])"
      ]
     },
     "execution_count": 123,
     "metadata": {},
     "output_type": "execute_result"
    }
   ],
   "source": [
    "a2.T"
   ]
  },
  {
   "cell_type": "code",
   "execution_count": 124,
   "metadata": {},
   "outputs": [
    {
     "data": {
      "text/plain": [
       "array([[[2, 0, 1],\n",
       "        [2, 2, 4],\n",
       "        [4, 5, 1]],\n",
       "\n",
       "       [[4, 3, 5],\n",
       "        [0, 3, 2],\n",
       "        [2, 0, 0]]])"
      ]
     },
     "execution_count": 124,
     "metadata": {},
     "output_type": "execute_result"
    }
   ],
   "source": [
    "a3"
   ]
  },
  {
   "cell_type": "code",
   "execution_count": 125,
   "metadata": {},
   "outputs": [
    {
     "data": {
      "text/plain": [
       "(2, 3, 3)"
      ]
     },
     "execution_count": 125,
     "metadata": {},
     "output_type": "execute_result"
    }
   ],
   "source": [
    "a3.shape"
   ]
  },
  {
   "cell_type": "code",
   "execution_count": 126,
   "metadata": {},
   "outputs": [
    {
     "data": {
      "text/plain": [
       "array([[[2, 4],\n",
       "        [2, 0],\n",
       "        [4, 2]],\n",
       "\n",
       "       [[0, 3],\n",
       "        [2, 3],\n",
       "        [5, 0]],\n",
       "\n",
       "       [[1, 5],\n",
       "        [4, 2],\n",
       "        [1, 0]]])"
      ]
     },
     "execution_count": 126,
     "metadata": {},
     "output_type": "execute_result"
    }
   ],
   "source": [
    "a3.T"
   ]
  },
  {
   "cell_type": "code",
   "execution_count": 127,
   "metadata": {},
   "outputs": [
    {
     "data": {
      "text/plain": [
       "(3, 3, 2)"
      ]
     },
     "execution_count": 127,
     "metadata": {},
     "output_type": "execute_result"
    }
   ],
   "source": [
    "a3.T.shape"
   ]
  },
  {
   "cell_type": "markdown",
   "metadata": {},
   "source": [
    " <img src=\"https://github.com/mrdbourke/zero-to-mastery-ml/blob/master/images/numpy-panda.jpeg?raw=true\" ></img>"
   ]
  },
  {
   "cell_type": "code",
   "execution_count": 133,
   "metadata": {},
   "outputs": [],
   "source": [
    "from matplotlib.image import imread\n",
    "import PIL as pil"
   ]
  },
  {
   "cell_type": "code",
   "execution_count": 134,
   "metadata": {},
   "outputs": [
    {
     "data": {
      "image/png": "[encoded data removed]",
      "text/plain": [
       "<Figure size 640x480 with 1 Axes>"
      ]
     },
     "metadata": {},
     "output_type": "display_data"
    }
   ],
   "source": [
    "import matplotlib.pyplot as plt\n",
    "from PIL import Image\n",
    "import requests\n",
    "from io import BytesIO\n",
    "\n",
    "# URL of the image\n",
    "url = \"https://github.com/mrdbourke/zero-to-mastery-ml/blob/master/images/numpy-panda.jpeg?raw=true\"\n",
    "\n",
    "# Request the image from the URL\n",
    "response = requests.get(url)\n",
    "\n",
    "# Open the image using PIL\n",
    "panda = Image.open(BytesIO(response.content))\n",
    "\n",
    "# Display the image\n",
    "plt.imshow(panda)\n",
    "plt.axis('off')  # Hide axes\n",
    "plt.show()"
   ]
  },
  {
   "cell_type": "code",
   "execution_count": 136,
   "metadata": {},
   "outputs": [
    {
     "data": {
      "text/plain": [
       "PIL.JpegImagePlugin.JpegImageFile"
      ]
     },
     "execution_count": 136,
     "metadata": {},
     "output_type": "execute_result"
    }
   ],
   "source": [
    "type(panda)"
   ]
  },
  {
   "cell_type": "code",
   "execution_count": 138,
   "metadata": {},
   "outputs": [],
   "source": [
    "import numpy as np\n",
    "from PIL import Image\n",
    "import urllib.request\n",
    "\n",
    "# URL of the image\n",
    "url = \"https://github.com/mrdbourke/zero-to-mastery-ml/blob/master/images/numpy-panda.jpeg?raw=true\"\n",
    "\n",
    "# Open the URL and pass the result to PIL.Image\n",
    "with urllib.request.urlopen(url) as response:\n",
    "    # Open the image using PIL and convert to a NumPy array\n",
    "    panda_array = np.array(Image.open(response))\n",
    "\n",
    "\n"
   ]
  },
  {
   "cell_type": "code",
   "execution_count": 141,
   "metadata": {},
   "outputs": [
    {
     "data": {
      "text/plain": [
       "(3271680, (852, 1280, 3), 3)"
      ]
     },
     "execution_count": 141,
     "metadata": {},
     "output_type": "execute_result"
    }
   ],
   "source": [
    "panda_array.size, panda_array.shape, panda_array.ndim"
   ]
  },
  {
   "cell_type": "code",
   "execution_count": 143,
   "metadata": {},
   "outputs": [
    {
     "data": {
      "text/plain": [
       "array([[[14, 27, 17],\n",
       "        [14, 27, 17],\n",
       "        [12, 28, 17],\n",
       "        ...,\n",
       "        [42, 35, 25],\n",
       "        [42, 35, 25],\n",
       "        [41, 34, 24]]], dtype=uint8)"
      ]
     },
     "execution_count": 143,
     "metadata": {},
     "output_type": "execute_result"
    }
   ],
   "source": [
    "panda_array[:1]"
   ]
  },
  {
   "cell_type": "code",
   "execution_count": 144,
   "metadata": {},
   "outputs": [],
   "source": [
    "from sklearn.model_selection import StratifiedShuffleSplit\n",
    "from sklearn.datasets import load_iris\n",
    "\n",
    "# Load a sample dataset\n",
    "iris = load_iris()\n",
    "X = iris.data\n",
    "y = iris.target\n",
    "\n",
    "# Initialize the StratifiedShuffleSplit\n",
    "sss = StratifiedShuffleSplit(n_splits=10, test_size=0.2, random_state=42)\n",
    "\n",
    "# Generate the train/test splits\n",
    "for train_index, test_index in sss.split(X, y):\n",
    "    X_train, X_test = X[train_index], X[test_index]\n",
    "    y_train, y_test = y[train_index], y[test_index]\n",
    "\n",
    "    # Now you can train a model using X_train, y_train and test it on X_test, y_test\n"
   ]
  },
  {
   "cell_type": "code",
   "execution_count": 149,
   "metadata": {},
   "outputs": [
    {
     "data": {
      "text/plain": [
       "(150, 4)"
      ]
     },
     "execution_count": 149,
     "metadata": {},
     "output_type": "execute_result"
    }
   ],
   "source": [
    "X.shape"
   ]
  },
  {
   "cell_type": "code",
   "execution_count": null,
   "metadata": {},
   "outputs": [],
   "source": []
  }
 ],
 "metadata": {
  "kernelspec": {
   "display_name": "Python 3 (ipykernel)",
   "language": "python",
   "name": "python3"
  },
  "language_info": {
   "codemirror_mode": {
    "name": "ipython",
    "version": 3
   },
   "file_extension": ".py",
   "mimetype": "text/x-python",
   "name": "python",
   "nbconvert_exporter": "python",
   "pygments_lexer": "ipython3",
   "version": "3.10.9"
  }
 },
 "nbformat": 4,
 "nbformat_minor": 2
}
