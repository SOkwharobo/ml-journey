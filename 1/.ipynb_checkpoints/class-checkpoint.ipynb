{
 "cells": [
  {
   "cell_type": "code",
   "execution_count": 29,
   "metadata": {},
   "outputs": [],
   "source": [
    "class SimpleClass:\n",
    "    \"\"\"Practice class\"\"\"\n",
    "    i = 45\n",
    "\n",
    "    def f(args):\n",
    "        return \"Hello World\"\n"
   ]
  },
  {
   "cell_type": "code",
   "execution_count": 30,
   "metadata": {},
   "outputs": [],
   "source": [
    "class ComplexNumbers:\n",
    "    def __init__(self, realValue, imaginaryValue, /) -> None:\n",
    "        self.a = realValue\n",
    "        self.b = imaginaryValue\n",
    "\n",
    "    def toString(self) -> str:\n",
    "        return f\"{self.a} + {self.b}i\""
   ]
  },
  {
   "cell_type": "code",
   "execution_count": 31,
   "metadata": {},
   "outputs": [
    {
     "data": {
      "text/plain": [
       "'3 + 4i'"
      ]
     },
     "execution_count": 31,
     "metadata": {},
     "output_type": "execute_result"
    }
   ],
   "source": [
    "z = ComplexNumbers(3, 4)\n",
    "z.toString()"
   ]
  },
  {
   "cell_type": "code",
   "execution_count": 32,
   "metadata": {},
   "outputs": [],
   "source": [
    "class Dog:\n",
    "    def __init__(self,name) -> None:\n",
    "        self.name = name\n",
    "        self.tricks = []\n",
    "\n",
    "    def add_trick(self, trick) -> list:\n",
    "        self.tricks.append(trick)\n",
    "        return self.tricks\n"
   ]
  },
  {
   "cell_type": "code",
   "execution_count": 35,
   "metadata": {},
   "outputs": [
    {
     "data": {
      "text/plain": [
       "['roll over']"
      ]
     },
     "execution_count": 35,
     "metadata": {},
     "output_type": "execute_result"
    }
   ],
   "source": [
    "scobby = Dog(\"Scooby\")\n",
    "milo = Dog(\"milo\")\n",
    "\n",
    "scobby.add_trick(\"sit\")\n",
    "milo.add_trick(\"roll over\")"
   ]
  },
  {
   "cell_type": "code",
   "execution_count": 36,
   "metadata": {},
   "outputs": [
    {
     "data": {
      "text/plain": [
       "['sit']"
      ]
     },
     "execution_count": 36,
     "metadata": {},
     "output_type": "execute_result"
    }
   ],
   "source": [
    "scobby.tricks"
   ]
  },
  {
   "cell_type": "code",
   "execution_count": null,
   "metadata": {},
   "outputs": [],
   "source": []
  }
 ],
 "metadata": {
  "kernelspec": {
   "display_name": "Python 3 (ipykernel)",
   "language": "python",
   "name": "python3"
  },
  "language_info": {
   "codemirror_mode": {
    "name": "ipython",
    "version": 3
   },
   "file_extension": ".py",
   "mimetype": "text/x-python",
   "name": "python",
   "nbconvert_exporter": "python",
   "pygments_lexer": "ipython3",
   "version": "3.10.9"
  }
 },
 "nbformat": 4,
 "nbformat_minor": 2
}
